{
 "cells": [
  {
   "cell_type": "code",
   "execution_count": 1,
   "metadata": {},
   "outputs": [],
   "source": [
    "import xgboost"
   ]
  },
  {
   "cell_type": "code",
   "execution_count": 2,
   "metadata": {},
   "outputs": [],
   "source": [
    "from xgboost import XGBClassifier"
   ]
  },
  {
   "cell_type": "code",
   "execution_count": 33,
   "metadata": {},
   "outputs": [],
   "source": [
    "import seaborn as sns\n",
    "from matplotlib import pyplot as plt\n",
    "from sklearn.model_selection import StratifiedKFold, GridSearchCV\n",
    "from sklearn.metrics import accuracy_score\n",
    "\n",
    "from time import sleep\n",
    "from datetime import datetime as dt\n",
    "\n",
    "sns.set(context='paper')"
   ]
  },
  {
   "cell_type": "code",
   "execution_count": 4,
   "metadata": {},
   "outputs": [],
   "source": [
    "import json"
   ]
  },
  {
   "cell_type": "code",
   "execution_count": 5,
   "metadata": {},
   "outputs": [],
   "source": [
    "import pandas as pd\n",
    "import numpy as np"
   ]
  },
  {
   "cell_type": "markdown",
   "metadata": {},
   "source": [
    "## Set in wider screen for more readability :"
   ]
  },
  {
   "cell_type": "code",
   "execution_count": 111,
   "metadata": {},
   "outputs": [
    {
     "data": {
      "text/html": [
       "<style>.container { width:100% !important; }</style>"
      ],
      "text/plain": [
       "<IPython.core.display.HTML object>"
      ]
     },
     "metadata": {},
     "output_type": "display_data"
    }
   ],
   "source": [
    "from IPython.core.display import display, HTML\n",
    "display(HTML(\"<style>.container { width:100% !important; }</style>\"))"
   ]
  },
  {
   "cell_type": "markdown",
   "metadata": {},
   "source": [
    "# Load data"
   ]
  },
  {
   "cell_type": "code",
   "execution_count": 6,
   "metadata": {},
   "outputs": [],
   "source": [
    "sourceFile = \"data/EOS_ETH-5m.json\""
   ]
  },
  {
   "cell_type": "code",
   "execution_count": 7,
   "metadata": {},
   "outputs": [],
   "source": [
    "with open(sourceFile) as f:\n",
    "    data = json.load(f)"
   ]
  },
  {
   "cell_type": "code",
   "execution_count": 8,
   "metadata": {},
   "outputs": [
    {
     "data": {
      "text/plain": [
       "40122"
      ]
     },
     "execution_count": 8,
     "metadata": {},
     "output_type": "execute_result"
    }
   ],
   "source": [
    "len(data)"
   ]
  },
  {
   "cell_type": "markdown",
   "metadata": {},
   "source": [
    "# Only take a part of the data"
   ]
  },
  {
   "cell_type": "code",
   "execution_count": 56,
   "metadata": {},
   "outputs": [],
   "source": [
    "data_sample = data[-10000:]"
   ]
  },
  {
   "cell_type": "code",
   "execution_count": 57,
   "metadata": {},
   "outputs": [
    {
     "data": {
      "text/plain": [
       "10000"
      ]
     },
     "execution_count": 57,
     "metadata": {},
     "output_type": "execute_result"
    }
   ],
   "source": [
    "len(data_sample)"
   ]
  },
  {
   "cell_type": "markdown",
   "metadata": {},
   "source": [
    "## transform to panda"
   ]
  },
  {
   "cell_type": "code",
   "execution_count": 58,
   "metadata": {},
   "outputs": [],
   "source": [
    "cols = ['date', 'open', 'high', 'low', 'close', 'volume']"
   ]
  },
  {
   "cell_type": "code",
   "execution_count": 59,
   "metadata": {},
   "outputs": [],
   "source": [
    "df = pd.DataFrame( data_sample, columns = cols)"
   ]
  },
  {
   "cell_type": "markdown",
   "metadata": {},
   "source": [
    "# Create the indicators part :"
   ]
  },
  {
   "cell_type": "code",
   "execution_count": 60,
   "metadata": {},
   "outputs": [],
   "source": [
    "import talib as tb"
   ]
  },
  {
   "cell_type": "code",
   "execution_count": 61,
   "metadata": {},
   "outputs": [],
   "source": [
    "def technical(df):\n",
    "    open = df['open'].values\n",
    "    close = df['close'].values\n",
    "    high = df['high'].values\n",
    "    low = df['low'].values\n",
    "    volume = df['volume'].values\n",
    "    # define the technical analysis matrix\n",
    "    retn = np.array([\n",
    "        tb.MA(close, timeperiod=60),                                        # 1\n",
    "        tb.MA(close, timeperiod=120),                                       # 2\n",
    "\n",
    "        tb.ADX(high, low, close, timeperiod=14),                            # 3\n",
    "        tb.ADXR(high, low, close, timeperiod=14),                           # 4\n",
    "\n",
    "        tb.MACD(close, fastperiod=12, slowperiod=26, signalperiod=9)[0],    # 5\n",
    "        tb.RSI(close, timeperiod=14),                                       # 6\n",
    "\n",
    "        tb.BBANDS(close, timeperiod=5, nbdevup=2, nbdevdn=2, matype=0)[0],  # 7\n",
    "        tb.BBANDS(close, timeperiod=5, nbdevup=2, nbdevdn=2, matype=0)[1],  # 8\n",
    "        tb.BBANDS(close, timeperiod=5, nbdevup=2, nbdevdn=2, matype=0)[2],  # 9\n",
    "\n",
    "        tb.AD(high, low, close, volume),                                    # 10\n",
    "        tb.ATR(high, low, close, timeperiod=14),                            # 11\n",
    "\n",
    "        tb.HT_DCPERIOD(close),                                              # 12\n",
    "\n",
    "        tb.CDL2CROWS(open, high, low, close),                               # 13\n",
    "        tb.CDL3BLACKCROWS(open, high, low, close),                          # 14\n",
    "        tb.CDL3INSIDE(open, high, low, close),                              # 15\n",
    "        tb.CDL3LINESTRIKE(open, high, low, close),                          # 16\n",
    "        tb.CDL3OUTSIDE(open, high, low, close),                             # 17\n",
    "        tb.CDL3STARSINSOUTH(open, high, low, close),                        # 18\n",
    "        tb.CDL3WHITESOLDIERS(open, high, low, close),                       # 19\n",
    "        tb.CDLABANDONEDBABY(open, high, low, close, penetration=0),         # 20\n",
    "        tb.CDLADVANCEBLOCK(open, high, low, close),                         # 21\n",
    "        tb.CDLBELTHOLD(open, high, low, close),                             # 22\n",
    "        tb.CDLBREAKAWAY(open, high, low, close),                            # 23\n",
    "        tb.CDLCLOSINGMARUBOZU(open, high, low, close),                      # 24\n",
    "        tb.CDLCONCEALBABYSWALL(open, high, low, close),                     # 25\n",
    "        tb.CDLCOUNTERATTACK(open, high, low, close),                        # 26\n",
    "        tb.CDLDARKCLOUDCOVER(open, high, low, close, penetration=0),        # 27\n",
    "        tb.CDLDOJI(open, high, low, close),                                 # 28\n",
    "        tb.CDLDOJISTAR(open, high, low, close),                             # 29\n",
    "        tb.CDLDRAGONFLYDOJI(open, high, low, close),                        # 30\n",
    "        tb.CDLENGULFING(open, high, low, close),                            # 31\n",
    "        tb.CDLEVENINGDOJISTAR(open, high, low, close, penetration=0),       # 32\n",
    "        tb.CDLEVENINGSTAR(open, high, low, close, penetration=0),           # 33\n",
    "        tb.CDLGAPSIDESIDEWHITE(open, high, low, close),                     # 34\n",
    "        tb.CDLGRAVESTONEDOJI(open, high, low, close),                       # 35\n",
    "        tb.CDLHAMMER(open, high, low, close),                               # 36\n",
    "        tb.CDLHANGINGMAN(open, high, low, close),                           # 37\n",
    "        tb.CDLHARAMI(open, high, low, close),                               # 38\n",
    "        tb.CDLHARAMICROSS(open, high, low, close),                          # 39\n",
    "        tb.CDLHIGHWAVE(open, high, low, close),                             # 40\n",
    "        tb.CDLHIKKAKE(open, high, low, close),                              # 41\n",
    "        tb.CDLHIKKAKEMOD(open, high, low, close),                           # 42\n",
    "        tb.CDLHOMINGPIGEON(open, high, low, close),                         # 43\n",
    "        tb.CDLIDENTICAL3CROWS(open, high, low, close),                      # 44\n",
    "        tb.CDLINNECK(open, high, low, close),                               # 45\n",
    "        tb.CDLINVERTEDHAMMER(open, high, low, close),                       # 46\n",
    "        tb.CDLKICKING(open, high, low, close),                              # 47\n",
    "        tb.CDLKICKINGBYLENGTH(open, high, low, close),                      # 48\n",
    "        tb.CDLLADDERBOTTOM(open, high, low, close),                         # 49\n",
    "        tb.CDLLONGLEGGEDDOJI(open, high, low, close),                       # 50\n",
    "        tb.CDLLONGLINE(open, high, low, close),                             # 51\n",
    "        tb.CDLMARUBOZU(open, high, low, close),                             # 52\n",
    "        tb.CDLMATCHINGLOW(open, high, low, close),                          # 53\n",
    "        tb.CDLMATHOLD(open, high, low, close, penetration=0),               # 54\n",
    "        tb.CDLMORNINGDOJISTAR(open, high, low, close, penetration=0),       # 55\n",
    "        tb.CDLMORNINGSTAR(open, high, low, close, penetration=0),           # 56\n",
    "        tb.CDLONNECK(open, high, low, close),                               # 57\n",
    "        tb.CDLPIERCING(open, high, low, close),                             # 58\n",
    "        tb.CDLRICKSHAWMAN(open, high, low, close),                          # 59\n",
    "        tb.CDLRISEFALL3METHODS(open, high, low, close),                     # 60\n",
    "        tb.CDLSEPARATINGLINES(open, high, low, close),                      # 61\n",
    "        tb.CDLSHOOTINGSTAR(open, high, low, close),                         # 62\n",
    "        tb.CDLSHORTLINE(open, high, low, close),                            # 63\n",
    "        tb.CDLSPINNINGTOP(open, high, low, close),                          # 64\n",
    "        tb.CDLSTALLEDPATTERN(open, high, low, close),                       # 65\n",
    "        tb.CDLSTICKSANDWICH(open, high, low, close),                        # 66\n",
    "        tb.CDLTAKURI(open, high, low, close),                               # 67\n",
    "        tb.CDLTASUKIGAP(open, high, low, close),                            # 68\n",
    "        tb.CDLTHRUSTING(open, high, low, close),                            # 69\n",
    "        tb.CDLTRISTAR(open, high, low, close),                              # 70\n",
    "        tb.CDLUNIQUE3RIVER(open, high, low, close),                         # 71\n",
    "        tb.CDLUPSIDEGAP2CROWS(open, high, low, close),                      # 72\n",
    "        tb.CDLXSIDEGAP3METHODS(open, high, low, close)                      # 73\n",
    "    ]).T\n",
    "    return retn"
   ]
  },
  {
   "cell_type": "code",
   "execution_count": 62,
   "metadata": {},
   "outputs": [],
   "source": [
    "techData = technical(df)"
   ]
  },
  {
   "cell_type": "code",
   "execution_count": 114,
   "metadata": {},
   "outputs": [],
   "source": [
    "def pdTechnical(df):\n",
    "    open = df['open'].values\n",
    "    close = df['close'].values\n",
    "    high = df['high'].values\n",
    "    low = df['low'].values\n",
    "    volume = df['volume'].values\n",
    "    # define the technical analysis matrix\n",
    "    indicList = {\n",
    "        'MA60'   :tb.MA(close, timeperiod=60),                                        # 1\n",
    "        'MA120'  :tb.MA(close, timeperiod=120),                                       # 2\n",
    "\n",
    "        'ADX'    :tb.ADX(high, low, close, timeperiod=14),                            # 3\n",
    "        'ADXR'   :tb.ADXR(high, low, close, timeperiod=14),                            # 4\n",
    "        'MACD'   :tb.MACD(close, fastperiod=12, slowperiod=26, signalperiod=9)[0],    # 5\n",
    "        'RSI_14' :tb.RSI(close, timeperiod=14),                                       # 6\n",
    "        'RSI_25' :tb.RSI(close, timeperiod=25),                                       # 6\n",
    "\n",
    "        'BBANDS0':tb.BBANDS(close, timeperiod=14, nbdevup=2, nbdevdn=2, matype=0)[0],  # 7\n",
    "        'BBANDS1':tb.BBANDS(close, timeperiod=14, nbdevup=2, nbdevdn=2, matype=0)[1],  # 8\n",
    "        'BBANDS2':tb.BBANDS(close, timeperiod=14, nbdevup=2, nbdevdn=2, matype=0)[2],  # 9\n",
    "\n",
    "        'AD'    :tb.AD(high, low, close, volume),                                    # 10\n",
    "        'ATR'   :tb.ATR(high, low, close, timeperiod=14),                            # 11\n",
    "\n",
    "        'HT_DCPERIOD':tb.HT_DCPERIOD(close),                                              # 12\n",
    "        \n",
    "        'ROC'   :tb.ROC(close, timeperiod=10),\n",
    "\n",
    "        'STDDEV':tb.STDDEV(close, timeperiod=5, nbdev=1),\n",
    "        'OBV'   :tb.OBV(close, volume),\n",
    "        'TSF'   :tb.TSF(close, timeperiod=14),\n",
    "        'MFI'   :tb.MFI(high, low, close, volume, timeperiod=14),\n",
    "        'WILLR' :tb.WILLR(high, low, close, timeperiod=14)\n",
    "    }\n",
    "\n",
    "    df2 = pd.DataFrame(indicList)\n",
    "    return df2"
   ]
  },
  {
   "cell_type": "code",
   "execution_count": 115,
   "metadata": {},
   "outputs": [],
   "source": [
    "df3 = pdTechnical(df)"
   ]
  },
  {
   "cell_type": "markdown",
   "metadata": {},
   "source": [
    "## Create the labels \n",
    "When the max of the price on N candles is more than X % the current (close) price"
   ]
  },
  {
   "cell_type": "code",
   "execution_count": 89,
   "metadata": {},
   "outputs": [],
   "source": [
    "def Label(df):\n",
    "    nbCandles = 10\n",
    "    increasePercent = .5 / 100.0 #  = 0.5%\n",
    "    increaseFactor = increasePercent + 1\n",
    "    df2 = df.copy()\n",
    "    #df2[\"max\"] = df2[\"close\"].rolling( nbCandles ).max().shift( -(nbCandles-1) )\n",
    "    maxFront = df2[\"close\"].rolling( nbCandles ).max().shift( -(nbCandles-1) )\n",
    "    df2[\"label\"] = (maxFront > increaseFactor * df2['close']).astype(int)\n",
    "    return df2\n",
    "    "
   ]
  },
  {
   "cell_type": "code",
   "execution_count": 90,
   "metadata": {},
   "outputs": [],
   "source": [
    "df2 = Label(df)\n"
   ]
  },
  {
   "cell_type": "markdown",
   "metadata": {},
   "source": [
    "## Set up xgboost, copy from :\n",
    "https://github.com/allenfrostline/Chinese-A-Share-Price-Prediction/blob/master/xgb.py"
   ]
  },
  {
   "cell_type": "code",
   "execution_count": 91,
   "metadata": {},
   "outputs": [],
   "source": [
    "class classifier:\n",
    "    def __init__(self):\n",
    "        self.model = XGBClassifier()\n",
    "        self.progress = 0\n",
    "\n",
    "    def para_tuning(self, X, y, para, grid, seed=0, verbose=False):  # verbose = 1 for tuning log, verbose = 2 for plotting, verbose = 3 for both\n",
    "\n",
    "        # determine which to parameter to tune this time\n",
    "        if para == '':\n",
    "            return None\n",
    "        elif para == 'learning_rate':\n",
    "            param_grid = dict(learning_rate=grid)  # [0,0.1]\n",
    "        elif para == 'max_depth':\n",
    "            param_grid = dict(max_depth=grid)  # int\n",
    "        elif para == 'min_child_weight':\n",
    "            param_grid = dict(min_child_weight=grid)  # [0,1]\n",
    "        elif para == 'gamma':\n",
    "            param_grid = dict(gamma=grid)  # [0,1]\n",
    "        elif para == 'max_delta_step':\n",
    "            param_grid = dict(max_delta_step=grid)  # int\n",
    "        elif para == 'colsample_bytree':\n",
    "            param_grid = dict(colsample_bytree=grid)  # [0,1]\n",
    "        elif para == 'reg_alpha':\n",
    "            param_grid = dict(reg_alpha=grid)  # [0,1]\n",
    "        elif para == 'reg_lambda':\n",
    "            param_grid = dict(reg_lambda=grid)  # [0,1]\n",
    "        else:\n",
    "            print('WRONG PARAMETER.')\n",
    "            return None\n",
    "        kfold = StratifiedKFold(n_splits=8, shuffle=True, random_state=seed)\n",
    "        grid_search = GridSearchCV(self.model, param_grid, scoring='accuracy', n_jobs=-1, cv=kfold)\n",
    "        grid_result = grid_search.fit(X, y)\n",
    "        # summarize results\n",
    "        means = grid_result.cv_results_['mean_test_score']\n",
    "        stds = grid_result.cv_results_['std_test_score']\n",
    "        params = grid_result.cv_results_['params']\n",
    "        if verbose == 1 or verbose == 3:\n",
    "            for mean, stdev, param in zip(means, stds, params):\n",
    "                print('{:.4f} ({:.4f}) WITH: {} = {}'.format(mean, stdev, para, list(param.values())[0]))\n",
    "            print('-' * 63)\n",
    "        self.progress += 1\n",
    "        progress = int(self.progress / 7 * 100)\n",
    "        progress_bar = int(self.progress / 7 * 58)\n",
    "        print('\\r' + '█' * progress_bar + ' ' * (58 - progress_bar) + ' {:>3}%'.format(progress), end='')\n",
    "        if verbose == 2 or verbose == 3:\n",
    "            # plot\n",
    "            plt.close()\n",
    "            plt.figure(figsize=(20, 10))\n",
    "            plt.errorbar(grid, means, yerr=stds)\n",
    "            plt.title('XGBoost {} Tuning'.format(para))\n",
    "            plt.xlabel(para)\n",
    "            plt.ylabel('accuracy')\n",
    "            plt.show()\n",
    "        return list(grid_result.best_params_.values())[0]\n",
    "\n",
    "    def tune(self, X, y, verbose=False, seed=0):\n",
    "        self.model.seed = seed\n",
    "        # fit model no training data\n",
    "        print('-' * 63)\n",
    "        print('AUTO TUNING ON TRAINING DATASET.')\n",
    "        self.model.n_estimators = 1024\n",
    "        self.model.subsample = 0.6\n",
    "        self.model.learning_rate = 0.01\n",
    "\n",
    "        self.model.max_depth = self.para_tuning(X, y, 'max_depth', [2, 4, 6, 8], seed, verbose)\n",
    "        self.model.min_child_weight = self.para_tuning(X, y, 'min_child_weight', [4, 8, 12, 16], seed, verbose)\n",
    "        self.model.gamma = self.para_tuning(X, y, 'gamma', [0, 0.1, 0.2, 0.4, 0.8, 1.6, 3.2, 6.4, 12.8], seed, verbose)\n",
    "        self.model.max_delta_step = self.para_tuning(X, y, 'max_delta_step', [0, 1, 2, 4], seed, verbose)\n",
    "        self.model.colsample_bytree = self.para_tuning(X, y, 'colsample_bytree', [0.5, 0.6, 0.7], seed, verbose)\n",
    "        self.model.reg_alpha = self.para_tuning(X, y, 'reg_alpha', [0, 0.001, 0.01, 0.1, 10, 100], seed, verbose)\n",
    "        self.model.reg_lambda = self.para_tuning(X, y, 'reg_lambda', [0, 0.001, 0.01, 0.1, 10, 100], seed, verbose)\n",
    "        self.model.learning_rate /= 2\n",
    "\n",
    "        sleep(3)\n",
    "        print('\\rAUTO TUNING FINISHED.' + ' ' * 42)\n",
    "        print('-' * 63)\n",
    "        automodelReviewing = True\n",
    "        if automodelReviewing or input('MODEL REVIEWING? (Y/N) ') == 'Y':\n",
    "            print(self.model)\n",
    "\n",
    "    def train(self, data, early_stopping_rounds=None, verbose=True, seed=0):\n",
    "        X_train, y_train = data.train[0], data.train[1]\n",
    "        X_test, y_test = data.test[0], data.test[1]\n",
    "\n",
    "        # tune paramters using trainging dataset\n",
    "        self.tune(X_train, y_train, seed=seed)\n",
    "        print('-' * 63)\n",
    "        # train the model with optimized parameters\n",
    "        print('MODEL TRAINING.')\n",
    "        metric = ['error', 'logloss', 'auc']\n",
    "#         self.model.min_child_weight = 4\n",
    "        self.model.fit(X_train, y_train,\n",
    "                       eval_metric=metric,\n",
    "                       eval_set=[(X_train, y_train), (X_test, y_test)],\n",
    "                       early_stopping_rounds=early_stopping_rounds,\n",
    "                       verbose=False)\n",
    "\n",
    "        # make predictions for train data\n",
    "        y_pred = self.model.predict(X_train)\n",
    "        predictions = [round(value) for value in y_pred]\n",
    "        # evaluate predictions\n",
    "        accuracy = accuracy_score(y_train, predictions)\n",
    "        print('TRAINING FINISHED.')\n",
    "        print('ACCURACY TRAINING: {:.2f}%'.format(accuracy * 100))\n",
    "\n",
    "        # make predictions for test data\n",
    "        y_pred = self.model.predict(X_test)\n",
    "        predictions = [round(value) for value in y_pred]\n",
    "        # evaluate predictions\n",
    "        accuracy = accuracy_score(y_test, predictions)\n",
    "        print('ACCURACY TESTING: {:.2f}%'.format(accuracy * 100))\n",
    "\n",
    "        if verbose is True:\n",
    "            try:\n",
    "                # plot boosting results\n",
    "                results = self.model.evals_result()\n",
    "                epochs = len(results['validation_0'][metric[0]])\n",
    "                x_axis = range(0, epochs)\n",
    "                plt.style.use('ggplot')\n",
    "                plt.rcParams['font.size'] = 8\n",
    "                plt.figure(figsize=(20, 10))\n",
    "                i = 0\n",
    "                for m in metric:\n",
    "                    ax = plt.subplot2grid((len(metric), 2), (i, 0))\n",
    "                    i += 1\n",
    "                    ax.plot(x_axis, results['validation_0'][m], label='Train')\n",
    "                    ax.plot(x_axis, results['validation_1'][m], label='Test')\n",
    "                    ax.legend()\n",
    "                    ax.set_ylabel(m)\n",
    "                # plot feature importances\n",
    "                features = data.features\n",
    "                mapFeat = dict(zip(['f' + str(i) for i in range(len(features))], features))\n",
    "                imp = pd.Series(self.model.get_booster().get_fscore())\n",
    "                imp.index = imp.reset_index()['index'].map(mapFeat)\n",
    "                ax = plt.subplot2grid((len(metric), 2), (0, 1), rowspan=len(metric))\n",
    "                imp.sort_values().plot(kind='barh')\n",
    "                ax.set_ylabel('importance')\n",
    "                plt.show()\n",
    "            except:\n",
    "                print (\"Exception : \" + str(traceback.format_exc()) )\n",
    "                print('PLOTTING ERROR.')"
   ]
  },
  {
   "cell_type": "markdown",
   "metadata": {},
   "source": [
    "## filling the data struct :"
   ]
  },
  {
   "cell_type": "code",
   "execution_count": 116,
   "metadata": {},
   "outputs": [],
   "source": [
    "seq_length = 3\n",
    "features = sum([[c + '[T-{}]'.format(i) for c in ['open', 'close', 'high', 'low', 'volume', 'turnover']] for i in range(seq_length)], []) + \\\n",
    "            list(df3)\n"
   ]
  },
  {
   "cell_type": "code",
   "execution_count": 117,
   "metadata": {},
   "outputs": [],
   "source": [
    "df4 = df3.copy()\n",
    "df4[\"label\"] = df2[\"label\"]\n",
    "df4.dropna(inplace=True)\n",
    "df4.reset_index(drop=True, inplace=True)"
   ]
  },
  {
   "cell_type": "code",
   "execution_count": 118,
   "metadata": {},
   "outputs": [],
   "source": [
    "train_size = 0.8\n",
    "train_len = int(len(df4) * train_size)"
   ]
  },
  {
   "cell_type": "code",
   "execution_count": 119,
   "metadata": {},
   "outputs": [],
   "source": [
    "data_train, data_test = df4[:train_len], df4[train_len:]"
   ]
  },
  {
   "cell_type": "markdown",
   "metadata": {},
   "source": [
    "split X and Y ( input and ouput ) :"
   ]
  },
  {
   "cell_type": "code",
   "execution_count": 120,
   "metadata": {},
   "outputs": [],
   "source": [
    "y_test = data_test[[\"label\"]]\n",
    "y_train = data_train[[\"label\"]]"
   ]
  },
  {
   "cell_type": "code",
   "execution_count": 121,
   "metadata": {},
   "outputs": [],
   "source": [
    "x_test = data_test.copy()\n",
    "x_test.drop( [\"label\"], inplace=True, axis=1)\n",
    "x_train = data_train.copy()\n",
    "x_train.drop( [\"label\"], inplace=True, axis=1)"
   ]
  },
  {
   "cell_type": "code",
   "execution_count": 122,
   "metadata": {},
   "outputs": [
    {
     "name": "stdout",
     "output_type": "stream",
     "text": [
      "┌────────┬────────┬────────┐\n",
      "│   %%   │   ++   │   --   │\n",
      "├────────┼────────┼────────┤\n",
      "│  TRAIN │ 42.66% │ 57.34% │\n",
      "├────────┼────────┼────────┤\n",
      "│  TEST  │ 32.07% │ 67.93% │\n",
      "└────────┴────────┴────────┘\n"
     ]
    }
   ],
   "source": [
    " # print a brief table about the train and test dataset\n",
    "print('┌────────┬────────┬────────┐')\n",
    "print('│   %%   │   ++   │   --   │')\n",
    "print('├────────┼────────┼────────┤')\n",
    "print('│  TRAIN │ {:>5.2f}% │ {:>5.2f}% │'.format( y_train.sum()[0] / len(y_train) * 100, 100 - y_train.sum()[0] / len(y_train) * 100))\n",
    "print('├────────┼────────┼────────┤')\n",
    "print('│  TEST  │ {:>5.2f}% │ {:>5.2f}% │'.format(y_test.sum()[0] / len(y_test) * 100, 100 - y_test.sum()[0] / len(y_test) * 100))\n",
    "print('└────────┴────────┴────────┘')\n"
   ]
  },
  {
   "cell_type": "code",
   "execution_count": 123,
   "metadata": {},
   "outputs": [],
   "source": [
    "trainingData = lambda : None"
   ]
  },
  {
   "cell_type": "code",
   "execution_count": 124,
   "metadata": {},
   "outputs": [],
   "source": [
    "trainingData.train = [x_train, y_train]\n",
    "trainingData.test = [x_test, y_test]\n",
    "trainingData.features = features"
   ]
  },
  {
   "cell_type": "markdown",
   "metadata": {},
   "source": [
    "## Let's try the beast !"
   ]
  },
  {
   "cell_type": "code",
   "execution_count": 125,
   "metadata": {
    "scrolled": false
   },
   "outputs": [
    {
     "name": "stdout",
     "output_type": "stream",
     "text": [
      "---------------------------------------------------------------\n",
      "AUTO TUNING ON TRAINING DATASET.\n"
     ]
    },
    {
     "name": "stderr",
     "output_type": "stream",
     "text": [
      "D:\\tools\\Anaconda3\\envs\\tensorFlow\\lib\\site-packages\\sklearn\\preprocessing\\label.py:95: DataConversionWarning: A column-vector y was passed when a 1d array was expected. Please change the shape of y to (n_samples, ), for example using ravel().\n",
      "  y = column_or_1d(y, warn=True)\n",
      "D:\\tools\\Anaconda3\\envs\\tensorFlow\\lib\\site-packages\\sklearn\\preprocessing\\label.py:128: DataConversionWarning: A column-vector y was passed when a 1d array was expected. Please change the shape of y to (n_samples, ), for example using ravel().\n",
      "  y = column_or_1d(y, warn=True)\n"
     ]
    },
    {
     "name": "stdout",
     "output_type": "stream",
     "text": [
      "\r",
      "████████                                                    14%"
     ]
    },
    {
     "name": "stderr",
     "output_type": "stream",
     "text": [
      "D:\\tools\\Anaconda3\\envs\\tensorFlow\\lib\\site-packages\\sklearn\\preprocessing\\label.py:95: DataConversionWarning: A column-vector y was passed when a 1d array was expected. Please change the shape of y to (n_samples, ), for example using ravel().\n",
      "  y = column_or_1d(y, warn=True)\n",
      "D:\\tools\\Anaconda3\\envs\\tensorFlow\\lib\\site-packages\\sklearn\\preprocessing\\label.py:128: DataConversionWarning: A column-vector y was passed when a 1d array was expected. Please change the shape of y to (n_samples, ), for example using ravel().\n",
      "  y = column_or_1d(y, warn=True)\n"
     ]
    },
    {
     "name": "stdout",
     "output_type": "stream",
     "text": [
      "\r",
      "████████████████                                            28%"
     ]
    },
    {
     "name": "stderr",
     "output_type": "stream",
     "text": [
      "D:\\tools\\Anaconda3\\envs\\tensorFlow\\lib\\site-packages\\sklearn\\preprocessing\\label.py:95: DataConversionWarning: A column-vector y was passed when a 1d array was expected. Please change the shape of y to (n_samples, ), for example using ravel().\n",
      "  y = column_or_1d(y, warn=True)\n",
      "D:\\tools\\Anaconda3\\envs\\tensorFlow\\lib\\site-packages\\sklearn\\preprocessing\\label.py:128: DataConversionWarning: A column-vector y was passed when a 1d array was expected. Please change the shape of y to (n_samples, ), for example using ravel().\n",
      "  y = column_or_1d(y, warn=True)\n"
     ]
    },
    {
     "name": "stdout",
     "output_type": "stream",
     "text": [
      "\r",
      "████████████████████████                                    42%"
     ]
    },
    {
     "name": "stderr",
     "output_type": "stream",
     "text": [
      "D:\\tools\\Anaconda3\\envs\\tensorFlow\\lib\\site-packages\\sklearn\\preprocessing\\label.py:95: DataConversionWarning: A column-vector y was passed when a 1d array was expected. Please change the shape of y to (n_samples, ), for example using ravel().\n",
      "  y = column_or_1d(y, warn=True)\n",
      "D:\\tools\\Anaconda3\\envs\\tensorFlow\\lib\\site-packages\\sklearn\\preprocessing\\label.py:128: DataConversionWarning: A column-vector y was passed when a 1d array was expected. Please change the shape of y to (n_samples, ), for example using ravel().\n",
      "  y = column_or_1d(y, warn=True)\n"
     ]
    },
    {
     "name": "stdout",
     "output_type": "stream",
     "text": [
      "\r",
      "█████████████████████████████████                           57%"
     ]
    },
    {
     "name": "stderr",
     "output_type": "stream",
     "text": [
      "D:\\tools\\Anaconda3\\envs\\tensorFlow\\lib\\site-packages\\sklearn\\preprocessing\\label.py:95: DataConversionWarning: A column-vector y was passed when a 1d array was expected. Please change the shape of y to (n_samples, ), for example using ravel().\n",
      "  y = column_or_1d(y, warn=True)\n",
      "D:\\tools\\Anaconda3\\envs\\tensorFlow\\lib\\site-packages\\sklearn\\preprocessing\\label.py:128: DataConversionWarning: A column-vector y was passed when a 1d array was expected. Please change the shape of y to (n_samples, ), for example using ravel().\n",
      "  y = column_or_1d(y, warn=True)\n"
     ]
    },
    {
     "name": "stdout",
     "output_type": "stream",
     "text": [
      "\r",
      "█████████████████████████████████████████                   71%"
     ]
    },
    {
     "name": "stderr",
     "output_type": "stream",
     "text": [
      "D:\\tools\\Anaconda3\\envs\\tensorFlow\\lib\\site-packages\\sklearn\\preprocessing\\label.py:95: DataConversionWarning: A column-vector y was passed when a 1d array was expected. Please change the shape of y to (n_samples, ), for example using ravel().\n",
      "  y = column_or_1d(y, warn=True)\n",
      "D:\\tools\\Anaconda3\\envs\\tensorFlow\\lib\\site-packages\\sklearn\\preprocessing\\label.py:128: DataConversionWarning: A column-vector y was passed when a 1d array was expected. Please change the shape of y to (n_samples, ), for example using ravel().\n",
      "  y = column_or_1d(y, warn=True)\n"
     ]
    },
    {
     "name": "stdout",
     "output_type": "stream",
     "text": [
      "\r",
      "█████████████████████████████████████████████████           85%"
     ]
    },
    {
     "name": "stderr",
     "output_type": "stream",
     "text": [
      "D:\\tools\\Anaconda3\\envs\\tensorFlow\\lib\\site-packages\\sklearn\\preprocessing\\label.py:95: DataConversionWarning: A column-vector y was passed when a 1d array was expected. Please change the shape of y to (n_samples, ), for example using ravel().\n",
      "  y = column_or_1d(y, warn=True)\n",
      "D:\\tools\\Anaconda3\\envs\\tensorFlow\\lib\\site-packages\\sklearn\\preprocessing\\label.py:128: DataConversionWarning: A column-vector y was passed when a 1d array was expected. Please change the shape of y to (n_samples, ), for example using ravel().\n",
      "  y = column_or_1d(y, warn=True)\n"
     ]
    },
    {
     "name": "stdout",
     "output_type": "stream",
     "text": [
      "AUTO TUNING FINISHED.                                          \n",
      "---------------------------------------------------------------\n",
      "XGBClassifier(base_score=0.5, booster='gbtree', colsample_bylevel=1,\n",
      "       colsample_bytree=0.7, gamma=0.1, learning_rate=0.005,\n",
      "       max_delta_step=2, max_depth=8, min_child_weight=4, missing=None,\n",
      "       n_estimators=1024, n_jobs=1, nthread=None,\n",
      "       objective='binary:logistic', random_state=0, reg_alpha=0.1,\n",
      "       reg_lambda=0.1, scale_pos_weight=1, seed=123, silent=True,\n",
      "       subsample=0.6)\n",
      "---------------------------------------------------------------\n",
      "MODEL TRAINING.\n"
     ]
    },
    {
     "name": "stderr",
     "output_type": "stream",
     "text": [
      "D:\\tools\\Anaconda3\\envs\\tensorFlow\\lib\\site-packages\\sklearn\\preprocessing\\label.py:95: DataConversionWarning: A column-vector y was passed when a 1d array was expected. Please change the shape of y to (n_samples, ), for example using ravel().\n",
      "  y = column_or_1d(y, warn=True)\n",
      "D:\\tools\\Anaconda3\\envs\\tensorFlow\\lib\\site-packages\\sklearn\\preprocessing\\label.py:128: DataConversionWarning: A column-vector y was passed when a 1d array was expected. Please change the shape of y to (n_samples, ), for example using ravel().\n",
      "  y = column_or_1d(y, warn=True)\n",
      "D:\\tools\\Anaconda3\\envs\\tensorFlow\\lib\\site-packages\\sklearn\\preprocessing\\label.py:151: DeprecationWarning: The truth value of an empty array is ambiguous. Returning False, but in future this will result in an error. Use `array.size > 0` to check that an array is not empty.\n",
      "  if diff:\n",
      "D:\\tools\\Anaconda3\\envs\\tensorFlow\\lib\\site-packages\\sklearn\\preprocessing\\label.py:151: DeprecationWarning: The truth value of an empty array is ambiguous. Returning False, but in future this will result in an error. Use `array.size > 0` to check that an array is not empty.\n",
      "  if diff:\n"
     ]
    },
    {
     "name": "stdout",
     "output_type": "stream",
     "text": [
      "TRAINING FINISHED.\n",
      "ACCURACY TRAINING: 83.35%\n",
      "ACCURACY TESTING: 68.54%\n"
     ]
    },
    {
     "data": {
      "image/png": "[encoded data removed]",
      "text/plain": [
       "<Figure size 1440x720 with 4 Axes>"
      ]
     },
     "metadata": {},
     "output_type": "display_data"
    },
    {
     "name": "stdout",
     "output_type": "stream",
     "text": [
      "===============================================================\n"
     ]
    }
   ],
   "source": [
    "clf = classifier()\n",
    "clf.train(trainingData, seed=123, early_stopping_rounds=20)\n",
    "print('=' * 63)"
   ]
  },
  {
   "cell_type": "code",
   "execution_count": 126,
   "metadata": {},
   "outputs": [
    {
     "data": {
      "text/plain": [
       "{'ATR': 717,\n",
       " 'OBV': 663,\n",
       " 'ROC': 481,\n",
       " 'AD': 939,\n",
       " 'ADX': 537,\n",
       " 'RSI_25': 469,\n",
       " 'BBANDS0': 337,\n",
       " 'MA60': 531,\n",
       " 'HT_DCPERIOD': 612,\n",
       " 'BBANDS2': 341,\n",
       " 'ADXR': 611,\n",
       " 'TSF': 323,\n",
       " 'STDDEV': 119,\n",
       " 'WILLR': 439,\n",
       " 'MA120': 661,\n",
       " 'MACD': 535,\n",
       " 'MFI': 358,\n",
       " 'BBANDS1': 266,\n",
       " 'RSI_14': 400}"
      ]
     },
     "execution_count": 126,
     "metadata": {},
     "output_type": "execute_result"
    }
   ],
   "source": [
    "clf.model.get_booster().get_fscore()"
   ]
  },
  {
   "cell_type": "code",
   "execution_count": 127,
   "metadata": {},
   "outputs": [
    {
     "data": {
      "text/plain": [
       "array([0.05685833, 0.07077846, 0.0575008 , 0.06542456, 0.05728665,\n",
       "       0.04283114, 0.05021951, 0.03608523, 0.02848271, 0.03651354,\n",
       "       0.1005461 , 0.07677481, 0.06553164, 0.05150444, 0.01274226,\n",
       "       0.07099261, 0.03458614, 0.03833387, 0.04700717], dtype=float32)"
      ]
     },
     "execution_count": 127,
     "metadata": {},
     "output_type": "execute_result"
    }
   ],
   "source": [
    "clf.model.feature_importances_"
   ]
  },
  {
   "cell_type": "code",
   "execution_count": 128,
   "metadata": {},
   "outputs": [
    {
     "data": {
      "text/plain": [
       "<matplotlib.axes._subplots.AxesSubplot at 0x255e001d0b8>"
      ]
     },
     "execution_count": 128,
     "metadata": {},
     "output_type": "execute_result"
    },
    {
     "data": {
      "image/png": "[encoded data removed]",
      "text/plain": [
       "<Figure size 432x288 with 1 Axes>"
      ]
     },
     "metadata": {},
     "output_type": "display_data"
    }
   ],
   "source": [
    "xgboost.plot_importance( clf.model)"
   ]
  },
  {
   "cell_type": "code",
   "execution_count": 109,
   "metadata": {},
   "outputs": [],
   "source": [
    "import os\n",
    "os.environ[\"PATH\"] += os.pathsep + 'D:/tools/Anaconda3/pkgs/graphviz-2.38.0-4/Library/bin/'\n",
    "os.environ[\"PATH\"] += os.pathsep + 'D:/tools/Anaconda3/pkgs/graphviz-2.38.0-4/Library/bin/graphviz'"
   ]
  },
  {
   "cell_type": "code",
   "execution_count": 112,
   "metadata": {},
   "outputs": [
    {
     "data": {
      "text/plain": [
       "<matplotlib.axes._subplots.AxesSubplot at 0x255e0044b38>"
      ]
     },
     "execution_count": 112,
     "metadata": {},
     "output_type": "execute_result"
    },
    {
     "data": {
      "image/png": "[encoded data removed]",
      "text/plain": [
       "<Figure size 432x288 with 1 Axes>"
      ]
     },
     "metadata": {},
     "output_type": "display_data"
    }
   ],
   "source": [
    "xgboost.plot_tree(clf.model)"
   ]
  }
 ],
 "metadata": {
  "kernelspec": {
   "display_name": "Python [conda env:tensorFlow]",
   "language": "python",
   "name": "conda-env-tensorFlow-py"
  },
  "language_info": {
   "codemirror_mode": {
    "name": "ipython",
    "version": 3
   },
   "file_extension": ".py",
   "mimetype": "text/x-python",
   "name": "python",
   "nbconvert_exporter": "python",
   "pygments_lexer": "ipython3",
   "version": "3.6.5"
  }
 },
 "nbformat": 4,
 "nbformat_minor": 2
}
